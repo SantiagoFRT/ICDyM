{
 "cells": [
  {
   "cell_type": "markdown",
   "metadata": {},
   "source": [
    "<center>\n",
    "<p><img src=\"https://mcd.unison.mx/wp-content/themes/awaken/img/logo_mcd.png\" width=\"150\">\n",
    "</p>\n",
    "\n",
    "\n",
    "\n",
    "<h1>Introducción a la Ciencia de Datos y sus Metodolgías</h1>\n",
    "\n",
    "<h3>Proyecto Final: Uso de base de datos de MySQL a través de JupyterNotebook: el caso del índice de marginación municipal en México, 2020 </h3>\n",
    "\n",
    "<p> Alumno </p>\n",
    "<p> Santiago Francisco Robles Tamayo </p>\n",
    "\n",
    "<p> Profesor </p>\n",
    "<p> Dr. Juan Pablo Soto Barrera </p>\n",
    "\n",
    "</center>"
   ]
  },
  {
   "cell_type": "markdown",
   "metadata": {},
   "source": [
    "# **Introducción**\n",
    "\n",
    "El presente trabajo consiste en una serie de pasos para llamar a una base de datos de interés, cargada en SQL, a través de un editor de texto para hacer un breve análsis exploratorio de datos (EDA). En este caso, se elegió la base de datos del Índice de Marginación Municipal en Sonora, 2020, de la Comisión Nacional de Población (CONAPO), para trabajarla en VisualStudioCode en Python. Una vez cargada en MySQL —Nueva base > Schemas > Table data import Wizard— e instaladas las librerías, se muestra el código necesario para ejecutar consultas desde el editor de texto a MySQL. Luego, se crea el motor para conectar el script de JupyterNotebook. La siguiente sección está dedicada a crear los diferentes data frames, subconjuntos de la base en MySQL, para  el análisis explotario de datos. La parte final consiste en una breve descripción de los gráficas generadas."
   ]
  },
  {
   "cell_type": "markdown",
   "metadata": {},
   "source": [
    "# **1. Instar y llamar las librerías correspondientes**\n",
    "\n",
    "Una vez cargada la base de datos de Excel en MySQL —Nueva base > Schemas > Table data import Wizard—, se instala el paquete `sqlalchemy`, el cual nos permite llamar a una base de datos desde el editor de texto."
   ]
  },
  {
   "cell_type": "code",
   "execution_count": 3,
   "metadata": {},
   "outputs": [
    {
     "name": "stdout",
     "output_type": "stream",
     "text": [
      "Collecting sqlalchemy\n",
      "  Downloading SQLAlchemy-1.4.44-cp38-cp38-win_amd64.whl (1.6 MB)\n",
      "Collecting greenlet!=0.4.17\n",
      "  Downloading greenlet-2.0.1-cp38-cp38-win_amd64.whl (190 kB)\n",
      "Installing collected packages: greenlet, sqlalchemy\n",
      "Successfully installed greenlet-2.0.1 sqlalchemy-1.4.44\n"
     ]
    },
    {
     "name": "stderr",
     "output_type": "stream",
     "text": [
      "WARNING: You are using pip version 21.1.1; however, version 22.3.1 is available.\n",
      "You should consider upgrading via the 'c:\\users\\santi\\appdata\\local\\programs\\python\\python38\\python.exe -m pip install --upgrade pip' command.\n"
     ]
    }
   ],
   "source": [
    "!pip install sqlalchemy"
   ]
  },
  {
   "cell_type": "markdown",
   "metadata": {},
   "source": [
    "Después, importamos las librerías y funciones necesarias."
   ]
  },
  {
   "cell_type": "code",
   "execution_count": 1,
   "metadata": {},
   "outputs": [],
   "source": [
    "import pymysql\n",
    "import pandas as pd\n",
    "from sqlalchemy import create_engine"
   ]
  },
  {
   "cell_type": "markdown",
   "metadata": {},
   "source": [
    "# **2. Se define el la función de \"EjecutaCunsulta\" para poder llamar a la base de datos de MySQL guaradada en el equipo**\n",
    "\n",
    "Las siguientes líneas de código son para generar las comandos con los que se ejecutan los llamados de la base de datos en MySQL al editor de texto."
   ]
  },
  {
   "cell_type": "code",
   "execution_count": 2,
   "metadata": {},
   "outputs": [],
   "source": [
    "def EjecutaConsulta(consulta, connString): # Ejecuta un procedimiento almacenado sin parámetros\n",
    "  # create cursor\n",
    "  connection = pymysql.connect(host=connString[2], port=connString[3],\n",
    "                         user=connString[0],\n",
    "                         password=connString[1],\n",
    "                         db=connString[4])   \n",
    "  cursor=connection.cursor()\n",
    "\n",
    "  validar = consulta[0:6].upper()\n",
    "  if validar != \"SELECT\":\n",
    "    return None\n",
    "\n",
    "  try:\n",
    "    # Execute query\n",
    "    sql = consulta\n",
    "    cursor.execute(sql)\n",
    "\n",
    "    # Fetch all the records\n",
    "    result = cursor.fetchall()\n",
    "    field_names = [i[0] for i in cursor.description]\n",
    "    df = pd.DataFrame(result, columns=field_names)\n",
    "    \n",
    "    #engine.dispose()\n",
    "    connection.close()\n",
    "\n",
    "    return df\n",
    "  except:\n",
    "    #engine.dispose()\n",
    "    connection.close()\n",
    "    return None"
   ]
  },
  {
   "cell_type": "markdown",
   "metadata": {},
   "source": [
    "# **3. Se crea el motor para poder conectar el script de Jupyter con MySQL**\n",
    "\n",
    "En esta sección especificamos el usuario, contraseña, entrada, puerto y nombre que se maneja en MySQL para poder llamar a la base de datos."
   ]
  },
  {
   "cell_type": "code",
   "execution_count": null,
   "metadata": {},
   "outputs": [],
   "source": [
    "#db_data = 'mysql+mysqldb://' + 'user' + ':' + 'micontraseña' + '@' + 'mydb.123456789012.us-east-1.rds.amazonaws.com' + ':3306/' \\\n",
    "  #           + 'Diabetes'\n",
    "#engine = create_engine(db_data)"
   ]
  },
  {
   "cell_type": "code",
   "execution_count": 3,
   "metadata": {},
   "outputs": [],
   "source": [
    "myUser = 'root'\n",
    "myPass = 'Fisher85!MySQL'\n",
    "myEndpoint = 'localhost' # Endpoint, para base local es localhost\n",
    "myPort = 3306\n",
    "myDb = 'proyecto'\n",
    "\n",
    "myDataConnect = [myUser, myPass, myEndpoint, myPort, myDb]"
   ]
  },
  {
   "cell_type": "markdown",
   "metadata": {},
   "source": [
    "# **4. Se generan los dataframes correspondientes para analizar el índice de marginación promedio por estado, población total y porcentaje promedio estatal de personas con máximo dos salarios mínimos, para 2020**\n"
   ]
  },
  {
   "cell_type": "markdown",
   "metadata": {},
   "source": [
    "Lo siguinte es hacer las lineas de comando necesarias para hacer gráficas de barra, en orden ascendente, del promedio estatal de las tres variables seleccionadas. A pesar de que el índice de marginación y sus componentes están a nivel municipal, en MySQL se generó una vista con los promedios estatales de las variables y, así, usarlo como un data frame en VisualStudioCode."
   ]
  },
  {
   "cell_type": "markdown",
   "metadata": {},
   "source": [
    "La primer variable que se grafica es el índice de marginación municipal promedio por estado. Para generar su gráfica de barras, primero se crea un objeto llamado SQL, que es igual a la línea de código de SQL que se usa para llamar a la columna de interés (en este caso, el índice de marginación municipal promedio por estado) . Después, se crea un data frame con esta columna, el cual llamamos `df_IM_2020`, con el comando `EjecutaConsulta(sql, myDataConnect)`; la entrada `sql` corresponde el objeto previamente creado, formado de los datos de interés, y `myDataConnect`, que contiene el usuario, contraseña, entrada, puerto y nombre de MySQL en el equipo en cuestión."
   ]
  },
  {
   "cell_type": "code",
   "execution_count": 4,
   "metadata": {},
   "outputs": [],
   "source": [
    "sql = \"SELECT * FROM promedio_por_estado_imm_2020 order by IM_2020_promedio;\"\n",
    "df_IM_2020 = EjecutaConsulta(sql, myDataConnect)\n",
    "df_IM_2020.head()\n",
    "df_IM_2020 = EjecutaConsulta(sql, myDataConnect)"
   ]
  },
  {
   "cell_type": "markdown",
   "metadata": {},
   "source": [
    "Una vez creado el data frame `df_IM_2020`, se grafica con el siguiente código. "
   ]
  },
  {
   "cell_type": "code",
   "execution_count": 5,
   "metadata": {},
   "outputs": [
    {
     "data": {
      "text/plain": [
       "<AxesSubplot: xlabel='Estado', ylabel='Índice de marginación promedio por Entidad'>"
      ]
     },
     "execution_count": 5,
     "metadata": {},
     "output_type": "execute_result"
    },
    {
     "data": {
      "image/png": "[encoded data removed]",
      "text/plain": [
       "<Figure size 1600x600 with 1 Axes>"
      ]
     },
     "metadata": {},
     "output_type": "display_data"
    }
   ],
   "source": [
    "df_IM_2020.plot(x=\"NOM_ENT\", y=\"IM_2020_promedio\", kind=\"bar\", xlabel='Estado', ylabel='Índice de marginación promedio por Entidad', figsize=(16,6))"
   ]
  },
  {
   "cell_type": "markdown",
   "metadata": {},
   "source": [
    "Es necesario recordar que hay una relación inversa entre el índide de marginación y el grado de marginación. Por lo tanto, dado que la gráfica anterior muestra a los estados por su índice de marginación municipal promedio por estado en orden ascendente, los primeros estados de la gráfica (izquierda) son los que tienen un mayor grado de marginación, mientras que los últimos (derecha) son los menos marginados."
   ]
  },
  {
   "cell_type": "markdown",
   "metadata": {},
   "source": [
    "Análogamente, se aplican los mismos comandos para el caso de la población total por estado y el promedio municipal por estado del porcentaje de población con máximo 2 salarios mínimos."
   ]
  },
  {
   "cell_type": "code",
   "execution_count": 6,
   "metadata": {},
   "outputs": [
    {
     "name": "stdout",
     "output_type": "stream",
     "text": [
      "<class 'pandas.core.frame.DataFrame'>\n",
      "RangeIndex: 32 entries, 0 to 31\n",
      "Data columns (total 5 columns):\n",
      " #   Column                             Non-Null Count  Dtype  \n",
      "---  ------                             --------------  -----  \n",
      " 0   CVE_ENT                            32 non-null     object \n",
      " 1   NOM_ENT                            32 non-null     object \n",
      " 2   Población_Total                    32 non-null     object \n",
      " 3   Porcantaje_Poblacion_promedio_2SM  32 non-null     float64\n",
      " 4   IM_2020_promedio                   32 non-null     float64\n",
      "dtypes: float64(2), object(3)\n",
      "memory usage: 1.4+ KB\n",
      "None\n",
      "   CVE_ENT                          NOM_ENT Población_Total  \\\n",
      "0       06                           Colima          731391   \n",
      "1       03              Baja California Sur          798447   \n",
      "2       04                         Campeche          928363   \n",
      "3       18                          Nayarit         1235456   \n",
      "4       29                         Tlaxcala         1342977   \n",
      "5       01                   Aguascalientes         1425607   \n",
      "6       32                        Zacatecas         1622138   \n",
      "7       10                          Durango         1832650   \n",
      "8       23                     Quintana Roo         1857985   \n",
      "9       17                          Morelos         1971520   \n",
      "10      31                          Yucatán         2320898   \n",
      "11      22                        Querétaro         2368467   \n",
      "12      27                          Tabasco         2402598   \n",
      "13      24                  San Luis Potosí         2822255   \n",
      "14      26                           Sonora         2944840   \n",
      "15      25                          Sinaloa         3026943   \n",
      "16      13                          Hidalgo         3082841   \n",
      "17      05             Coahuila de Zaragoza         3146771   \n",
      "18      28                       Tamaulipas         3527735   \n",
      "19      12                         Guerrero         3540685   \n",
      "20      08                        Chihuahua         3741869   \n",
      "21      02                  Baja California         3769020   \n",
      "22      20                           Oaxaca         4132148   \n",
      "23      16              Michoacán de Ocampo         4748846   \n",
      "24      07                          Chiapas         5543828   \n",
      "25      19                       Nuevo León         5784442   \n",
      "26      11                       Guanajuato         6166934   \n",
      "27      21                           Puebla         6583278   \n",
      "28      30  Veracruz de Ignacio de la Llave         8062579   \n",
      "29      14                          Jalisco         8348151   \n",
      "30      09                 Ciudad de México         9209944   \n",
      "31      15                           México        16992418   \n",
      "\n",
      "    Porcantaje_Poblacion_promedio_2SM  IM_2020_promedio  \n",
      "0                               67.01             57.85  \n",
      "1                               52.21             58.63  \n",
      "2                               79.99             54.68  \n",
      "3                               73.97             54.27  \n",
      "4                               81.71             57.30  \n",
      "5                               71.46             57.78  \n",
      "6                               78.84             56.35  \n",
      "7                               79.07             54.84  \n",
      "8                               67.31             56.30  \n",
      "9                               81.38             56.12  \n",
      "10                              86.00             53.35  \n",
      "11                              70.46             55.45  \n",
      "12                              77.28             55.61  \n",
      "13                              83.64             53.56  \n",
      "14                              71.08             57.10  \n",
      "15                              71.70             56.16  \n",
      "16                              81.42             55.05  \n",
      "17                              70.69             58.05  \n",
      "18                              83.66             55.69  \n",
      "19                              87.11             49.12  \n",
      "20                              73.75             53.91  \n",
      "21                              72.75             57.78  \n",
      "22                              89.04             51.78  \n",
      "23                              77.66             54.99  \n",
      "24                              91.05             51.03  \n",
      "25                              62.65             57.88  \n",
      "26                              76.04             55.95  \n",
      "27                              89.42             53.20  \n",
      "28                              86.56             53.10  \n",
      "29                              68.84             56.62  \n",
      "30                              55.59             60.14  \n",
      "31                              73.25             56.60  \n"
     ]
    }
   ],
   "source": [
    "sql = \"SELECT * FROM promedio_por_estado_imm_2020 order by Población_Total;\"\n",
    "df_POT_TOT = EjecutaConsulta(sql, myDataConnect)\n",
    "df_POT_TOT.head()\n",
    "df_POT_TOT = EjecutaConsulta(sql, myDataConnect)\n",
    "print(df_POT_TOT.info())\n",
    "print(df_POT_TOT)"
   ]
  },
  {
   "cell_type": "code",
   "execution_count": 7,
   "metadata": {},
   "outputs": [],
   "source": [
    "df_POT_TOT[\"Población_Total\"] = pd.to_numeric(df_POT_TOT[\"Población_Total\"])"
   ]
  },
  {
   "cell_type": "code",
   "execution_count": 8,
   "metadata": {},
   "outputs": [
    {
     "data": {
      "text/plain": [
       "<AxesSubplot: xlabel='Estado', ylabel='Población total'>"
      ]
     },
     "execution_count": 8,
     "metadata": {},
     "output_type": "execute_result"
    },
    {
     "data": {
      "image/png": "[encoded data removed]",
      "text/plain": [
       "<Figure size 1600x600 with 1 Axes>"
      ]
     },
     "metadata": {},
     "output_type": "display_data"
    }
   ],
   "source": [
    "df_POT_TOT.plot(x=\"NOM_ENT\", y=\"Población_Total\", kind=\"bar\", xlabel='Estado', ylabel='Población total', figsize=(16,6))"
   ]
  },
  {
   "cell_type": "markdown",
   "metadata": {},
   "source": [
    "La población estatal total en 2022 también se graficó de forma ascendente. El orden es sumamente heterogeneo: al menos visualmente, no hay una relación entre el índice de marginación y la población total. Por ejemplo, Chiapas y Nuevo León tienen casi la misma población, pero ambos reflejan los extremos en índice de marginación."
   ]
  },
  {
   "cell_type": "code",
   "execution_count": 9,
   "metadata": {},
   "outputs": [
    {
     "name": "stdout",
     "output_type": "stream",
     "text": [
      "<class 'pandas.core.frame.DataFrame'>\n",
      "RangeIndex: 32 entries, 0 to 31\n",
      "Data columns (total 5 columns):\n",
      " #   Column                             Non-Null Count  Dtype  \n",
      "---  ------                             --------------  -----  \n",
      " 0   CVE_ENT                            32 non-null     object \n",
      " 1   NOM_ENT                            32 non-null     object \n",
      " 2   Población_Total                    32 non-null     object \n",
      " 3   Porcantaje_Poblacion_promedio_2SM  32 non-null     float64\n",
      " 4   IM_2020_promedio                   32 non-null     float64\n",
      "dtypes: float64(2), object(3)\n",
      "memory usage: 1.4+ KB\n",
      "None\n",
      "   CVE_ENT                          NOM_ENT Población_Total  \\\n",
      "0       03              Baja California Sur          798447   \n",
      "1       09                 Ciudad de México         9209944   \n",
      "2       19                       Nuevo León         5784442   \n",
      "3       06                           Colima          731391   \n",
      "4       23                     Quintana Roo         1857985   \n",
      "5       14                          Jalisco         8348151   \n",
      "6       22                        Querétaro         2368467   \n",
      "7       05             Coahuila de Zaragoza         3146771   \n",
      "8       26                           Sonora         2944840   \n",
      "9       01                   Aguascalientes         1425607   \n",
      "10      25                          Sinaloa         3026943   \n",
      "11      02                  Baja California         3769020   \n",
      "12      15                           México        16992418   \n",
      "13      08                        Chihuahua         3741869   \n",
      "14      18                          Nayarit         1235456   \n",
      "15      11                       Guanajuato         6166934   \n",
      "16      27                          Tabasco         2402598   \n",
      "17      16              Michoacán de Ocampo         4748846   \n",
      "18      32                        Zacatecas         1622138   \n",
      "19      10                          Durango         1832650   \n",
      "20      04                         Campeche          928363   \n",
      "21      17                          Morelos         1971520   \n",
      "22      13                          Hidalgo         3082841   \n",
      "23      29                         Tlaxcala         1342977   \n",
      "24      24                  San Luis Potosí         2822255   \n",
      "25      28                       Tamaulipas         3527735   \n",
      "26      31                          Yucatán         2320898   \n",
      "27      30  Veracruz de Ignacio de la Llave         8062579   \n",
      "28      12                         Guerrero         3540685   \n",
      "29      20                           Oaxaca         4132148   \n",
      "30      21                           Puebla         6583278   \n",
      "31      07                          Chiapas         5543828   \n",
      "\n",
      "    Porcantaje_Poblacion_promedio_2SM  IM_2020_promedio  \n",
      "0                               52.21             58.63  \n",
      "1                               55.59             60.14  \n",
      "2                               62.65             57.88  \n",
      "3                               67.01             57.85  \n",
      "4                               67.31             56.30  \n",
      "5                               68.84             56.62  \n",
      "6                               70.46             55.45  \n",
      "7                               70.69             58.05  \n",
      "8                               71.08             57.10  \n",
      "9                               71.46             57.78  \n",
      "10                              71.70             56.16  \n",
      "11                              72.75             57.78  \n",
      "12                              73.25             56.60  \n",
      "13                              73.75             53.91  \n",
      "14                              73.97             54.27  \n",
      "15                              76.04             55.95  \n",
      "16                              77.28             55.61  \n",
      "17                              77.66             54.99  \n",
      "18                              78.84             56.35  \n",
      "19                              79.07             54.84  \n",
      "20                              79.99             54.68  \n",
      "21                              81.38             56.12  \n",
      "22                              81.42             55.05  \n",
      "23                              81.71             57.30  \n",
      "24                              83.64             53.56  \n",
      "25                              83.66             55.69  \n",
      "26                              86.00             53.35  \n",
      "27                              86.56             53.10  \n",
      "28                              87.11             49.12  \n",
      "29                              89.04             51.78  \n",
      "30                              89.42             53.20  \n",
      "31                              91.05             51.03  \n"
     ]
    }
   ],
   "source": [
    "sql = \"SELECT * FROM promedio_por_estado_imm_2020 order by Porcantaje_Poblacion_promedio_2SM\"\n",
    "df_2SM = EjecutaConsulta(sql, myDataConnect)\n",
    "df_2SM.head()\n",
    "df_2SM = EjecutaConsulta(sql, myDataConnect)\n",
    "print(df_2SM.info())\n",
    "print(df_2SM)"
   ]
  },
  {
   "cell_type": "code",
   "execution_count": 36,
   "metadata": {},
   "outputs": [
    {
     "data": {
      "text/plain": [
       "<AxesSubplot: xlabel='Estado', ylabel='Porcentaje promedio de población con máximo 2SM'>"
      ]
     },
     "execution_count": 36,
     "metadata": {},
     "output_type": "execute_result"
    },
    {
     "data": {
      "image/png": "[encoded data removed]",
      "text/plain": [
       "<Figure size 1600x600 with 1 Axes>"
      ]
     },
     "metadata": {},
     "output_type": "display_data"
    }
   ],
   "source": [
    "df_2SM.plot(x=\"NOM_ENT\", y=\"Porcantaje_Poblacion_promedio_2SM\", kind=\"bar\", xlabel='Estado', ylabel='Porcentaje promedio de población con máximo 2SM', figsize=(16,6))"
   ]
  },
  {
   "cell_type": "markdown",
   "metadata": {},
   "source": [
    "A diferencia de la población, al menos visualmente, sí hay una relación entre el índice de marginación y el promedio municipal por estado del porcentaje de población con máximo 2 salarios mínimos. Se aprecia en los extremos de la gráfica: las entidades con una proporción menor de población con esta característica comparten un índide de marginación alto (bajo grado de marginación), como Ciudad de México, Nuevo León y Jalisco, a la izquierda; las entidades con una mayor proporción de personas con máximo dos salarios mínimos coinciden con varias entidades que tienen un alto grado de marginación, como Guerrero, Oaxaca, Puebla y Chiapas, por la derecha.\n",
    "\n",
    "Para visualizar mejor la relación entre ambas variables, se realiza una gráfica de dispersión del índice de marginación municipal promedio por estado contra el promedio municipal por estado del porcentage de población con máximo dos salarios mínimos."
   ]
  },
  {
   "cell_type": "code",
   "execution_count": 17,
   "metadata": {},
   "outputs": [
    {
     "data": {
      "text/html": [
       "<div>\n",
       "<style scoped>\n",
       "    .dataframe tbody tr th:only-of-type {\n",
       "        vertical-align: middle;\n",
       "    }\n",
       "\n",
       "    .dataframe tbody tr th {\n",
       "        vertical-align: top;\n",
       "    }\n",
       "\n",
       "    .dataframe thead th {\n",
       "        text-align: right;\n",
       "    }\n",
       "</style>\n",
       "<table border=\"1\" class=\"dataframe\">\n",
       "  <thead>\n",
       "    <tr style=\"text-align: right;\">\n",
       "      <th></th>\n",
       "      <th>CVE_ENT</th>\n",
       "      <th>NOM_ENT</th>\n",
       "      <th>Población_Total</th>\n",
       "      <th>Porcantaje_Poblacion_promedio_2SM</th>\n",
       "      <th>IM_2020_promedio</th>\n",
       "    </tr>\n",
       "  </thead>\n",
       "  <tbody>\n",
       "    <tr>\n",
       "      <th>0</th>\n",
       "      <td>01</td>\n",
       "      <td>Aguascalientes</td>\n",
       "      <td>1425607</td>\n",
       "      <td>71.46</td>\n",
       "      <td>57.78</td>\n",
       "    </tr>\n",
       "    <tr>\n",
       "      <th>1</th>\n",
       "      <td>02</td>\n",
       "      <td>Baja California</td>\n",
       "      <td>3769020</td>\n",
       "      <td>72.75</td>\n",
       "      <td>57.78</td>\n",
       "    </tr>\n",
       "    <tr>\n",
       "      <th>2</th>\n",
       "      <td>03</td>\n",
       "      <td>Baja California Sur</td>\n",
       "      <td>798447</td>\n",
       "      <td>52.21</td>\n",
       "      <td>58.63</td>\n",
       "    </tr>\n",
       "    <tr>\n",
       "      <th>3</th>\n",
       "      <td>04</td>\n",
       "      <td>Campeche</td>\n",
       "      <td>928363</td>\n",
       "      <td>79.99</td>\n",
       "      <td>54.68</td>\n",
       "    </tr>\n",
       "    <tr>\n",
       "      <th>4</th>\n",
       "      <td>05</td>\n",
       "      <td>Coahuila de Zaragoza</td>\n",
       "      <td>3146771</td>\n",
       "      <td>70.69</td>\n",
       "      <td>58.05</td>\n",
       "    </tr>\n",
       "  </tbody>\n",
       "</table>\n",
       "</div>"
      ],
      "text/plain": [
       "  CVE_ENT               NOM_ENT Población_Total  \\\n",
       "0      01        Aguascalientes         1425607   \n",
       "1      02       Baja California         3769020   \n",
       "2      03   Baja California Sur          798447   \n",
       "3      04              Campeche          928363   \n",
       "4      05  Coahuila de Zaragoza         3146771   \n",
       "\n",
       "   Porcantaje_Poblacion_promedio_2SM  IM_2020_promedio  \n",
       "0                              71.46             57.78  \n",
       "1                              72.75             57.78  \n",
       "2                              52.21             58.63  \n",
       "3                              79.99             54.68  \n",
       "4                              70.69             58.05  "
      ]
     },
     "execution_count": 17,
     "metadata": {},
     "output_type": "execute_result"
    }
   ],
   "source": [
    "sql = \"SELECT * FROM promedio_por_estado_imm_2020;\"\n",
    "df_data_avg = EjecutaConsulta(sql, myDataConnect)\n",
    "df_data_avg.head()"
   ]
  },
  {
   "cell_type": "code",
   "execution_count": 35,
   "metadata": {},
   "outputs": [
    {
     "data": {
      "application/vnd.plotly.v1+json": {
       "config": {
        "plotlyServerURL": "https://plot.ly"
       },
       "data": [
        {
         "hovertemplate": "Porcantaje_Poblacion_promedio_2SM=%{x}<br>IM_2020_promedio=%{y}<br>NOM_ENT=%{text}<extra></extra>",
         "legendgroup": "",
         "marker": {
          "color": "blue",
          "opacity": 0.6,
          "symbol": "circle"
         },
         "mode": "markers+text",
         "name": "",
         "orientation": "v",
         "showlegend": false,
         "text": [
          "Aguascalientes",
          "Baja California",
          "Baja California Sur",
          "Campeche",
          "Coahuila de Zaragoza",
          "Colima",
          "Chiapas",
          "Chihuahua",
          "Ciudad de México",
          "Durango",
          "Guanajuato",
          "Guerrero",
          "Hidalgo",
          "Jalisco",
          "México",
          "Michoacán de Ocampo",
          "Morelos",
          "Nayarit",
          "Nuevo León",
          "Oaxaca",
          "Puebla",
          "Querétaro",
          "Quintana Roo",
          "San Luis Potosí",
          "Sinaloa",
          "Sonora",
          "Tabasco",
          "Tamaulipas",
          "Tlaxcala",
          "Veracruz de Ignacio de la Llave",
          "Yucatán",
          "Zacatecas"
         ],
         "type": "scatter",
         "x": [
          71.46,
          72.75,
          52.21,
          79.99,
          70.69,
          67.01,
          91.05,
          73.75,
          55.59,
          79.07,
          76.04,
          87.11,
          81.42,
          68.84,
          73.25,
          77.66,
          81.38,
          73.97,
          62.65,
          89.04,
          89.42,
          70.46,
          67.31,
          83.64,
          71.7,
          71.08,
          77.28,
          83.66,
          81.71,
          86.56,
          86,
          78.84
         ],
         "xaxis": "x",
         "y": [
          57.78,
          57.78,
          58.63,
          54.68,
          58.05,
          57.85,
          51.03,
          53.91,
          60.14,
          54.84,
          55.95,
          49.12,
          55.05,
          56.62,
          56.6,
          54.99,
          56.12,
          54.27,
          57.88,
          51.78,
          53.2,
          55.45,
          56.3,
          53.56,
          56.16,
          57.1,
          55.61,
          55.69,
          57.3,
          53.1,
          53.35,
          56.35
         ],
         "yaxis": "y"
        },
        {
         "hovertemplate": "<b>OLS trendline</b><br>IM_2020_promedio = -0.204045 * Porcantaje_Poblacion_promedio_2SM + 71.0187<br>R<sup>2</sup>=0.656406<br><br>Porcantaje_Poblacion_promedio_2SM=%{x}<br>IM_2020_promedio=%{y} <b>(trend)</b><extra></extra>",
         "legendgroup": "",
         "line": {
          "color": "red"
         },
         "marker": {
          "color": "blue",
          "symbol": "circle"
         },
         "mode": "lines",
         "name": "",
         "showlegend": false,
         "type": "scatter",
         "x": [
          52.21,
          55.59,
          62.65,
          67.01,
          67.31,
          68.84,
          70.46,
          70.69,
          71.08,
          71.46,
          71.7,
          72.75,
          73.25,
          73.75,
          73.97,
          76.04,
          77.28,
          77.66,
          78.84,
          79.07,
          79.99,
          81.38,
          81.42,
          81.71,
          83.64,
          83.66,
          86,
          86.56,
          87.11,
          89.04,
          89.42,
          91.05
         ],
         "xaxis": "x",
         "y": [
          60.36548681988854,
          59.67581554468523,
          58.23525956748542,
          57.34562443142435,
          57.28441100463115,
          56.97222252798587,
          56.64167002330263,
          56.59473972942784,
          56.5151622745967,
          56.437625267325316,
          56.388654525890765,
          56.174407532114586,
          56.07238515412593,
          55.97036277613728,
          55.92547292982227,
          55.50310028494924,
          55.250084787537375,
          55.172547780266,
          54.93177496821277,
          54.88484467433799,
          54.69712349883886,
          54.4135012880304,
          54.40533949779131,
          54.346166518557894,
          53.95236013952169,
          53.94827924440214,
          53.47081451541523,
          53.35654945206794,
          53.24432483628041,
          52.850518457244206,
          52.77298144997283,
          52.44038849772981
         ],
         "yaxis": "y"
        }
       ],
       "layout": {
        "legend": {
         "tracegroupgap": 0
        },
        "template": {
         "data": {
          "bar": [
           {
            "error_x": {
             "color": "#2a3f5f"
            },
            "error_y": {
             "color": "#2a3f5f"
            },
            "marker": {
             "line": {
              "color": "#E5ECF6",
              "width": 0.5
             },
             "pattern": {
              "fillmode": "overlay",
              "size": 10,
              "solidity": 0.2
             }
            },
            "type": "bar"
           }
          ],
          "barpolar": [
           {
            "marker": {
             "line": {
              "color": "#E5ECF6",
              "width": 0.5
             },
             "pattern": {
              "fillmode": "overlay",
              "size": 10,
              "solidity": 0.2
             }
            },
            "type": "barpolar"
           }
          ],
          "carpet": [
           {
            "aaxis": {
             "endlinecolor": "#2a3f5f",
             "gridcolor": "white",
             "linecolor": "white",
             "minorgridcolor": "white",
             "startlinecolor": "#2a3f5f"
            },
            "baxis": {
             "endlinecolor": "#2a3f5f",
             "gridcolor": "white",
             "linecolor": "white",
             "minorgridcolor": "white",
             "startlinecolor": "#2a3f5f"
            },
            "type": "carpet"
           }
          ],
          "choropleth": [
           {
            "colorbar": {
             "outlinewidth": 0,
             "ticks": ""
            },
            "type": "choropleth"
           }
          ],
          "contour": [
           {
            "colorbar": {
             "outlinewidth": 0,
             "ticks": ""
            },
            "colorscale": [
             [
              0,
              "#0d0887"
             ],
             [
              0.1111111111111111,
              "#46039f"
             ],
             [
              0.2222222222222222,
              "#7201a8"
             ],
             [
              0.3333333333333333,
              "#9c179e"
             ],
             [
              0.4444444444444444,
              "#bd3786"
             ],
             [
              0.5555555555555556,
              "#d8576b"
             ],
             [
              0.6666666666666666,
              "#ed7953"
             ],
             [
              0.7777777777777778,
              "#fb9f3a"
             ],
             [
              0.8888888888888888,
              "#fdca26"
             ],
             [
              1,
              "#f0f921"
             ]
            ],
            "type": "contour"
           }
          ],
          "contourcarpet": [
           {
            "colorbar": {
             "outlinewidth": 0,
             "ticks": ""
            },
            "type": "contourcarpet"
           }
          ],
          "heatmap": [
           {
            "colorbar": {
             "outlinewidth": 0,
             "ticks": ""
            },
            "colorscale": [
             [
              0,
              "#0d0887"
             ],
             [
              0.1111111111111111,
              "#46039f"
             ],
             [
              0.2222222222222222,
              "#7201a8"
             ],
             [
              0.3333333333333333,
              "#9c179e"
             ],
             [
              0.4444444444444444,
              "#bd3786"
             ],
             [
              0.5555555555555556,
              "#d8576b"
             ],
             [
              0.6666666666666666,
              "#ed7953"
             ],
             [
              0.7777777777777778,
              "#fb9f3a"
             ],
             [
              0.8888888888888888,
              "#fdca26"
             ],
             [
              1,
              "#f0f921"
             ]
            ],
            "type": "heatmap"
           }
          ],
          "heatmapgl": [
           {
            "colorbar": {
             "outlinewidth": 0,
             "ticks": ""
            },
            "colorscale": [
             [
              0,
              "#0d0887"
             ],
             [
              0.1111111111111111,
              "#46039f"
             ],
             [
              0.2222222222222222,
              "#7201a8"
             ],
             [
              0.3333333333333333,
              "#9c179e"
             ],
             [
              0.4444444444444444,
              "#bd3786"
             ],
             [
              0.5555555555555556,
              "#d8576b"
             ],
             [
              0.6666666666666666,
              "#ed7953"
             ],
             [
              0.7777777777777778,
              "#fb9f3a"
             ],
             [
              0.8888888888888888,
              "#fdca26"
             ],
             [
              1,
              "#f0f921"
             ]
            ],
            "type": "heatmapgl"
           }
          ],
          "histogram": [
           {
            "marker": {
             "pattern": {
              "fillmode": "overlay",
              "size": 10,
              "solidity": 0.2
             }
            },
            "type": "histogram"
           }
          ],
          "histogram2d": [
           {
            "colorbar": {
             "outlinewidth": 0,
             "ticks": ""
            },
            "colorscale": [
             [
              0,
              "#0d0887"
             ],
             [
              0.1111111111111111,
              "#46039f"
             ],
             [
              0.2222222222222222,
              "#7201a8"
             ],
             [
              0.3333333333333333,
              "#9c179e"
             ],
             [
              0.4444444444444444,
              "#bd3786"
             ],
             [
              0.5555555555555556,
              "#d8576b"
             ],
             [
              0.6666666666666666,
              "#ed7953"
             ],
             [
              0.7777777777777778,
              "#fb9f3a"
             ],
             [
              0.8888888888888888,
              "#fdca26"
             ],
             [
              1,
              "#f0f921"
             ]
            ],
            "type": "histogram2d"
           }
          ],
          "histogram2dcontour": [
           {
            "colorbar": {
             "outlinewidth": 0,
             "ticks": ""
            },
            "colorscale": [
             [
              0,
              "#0d0887"
             ],
             [
              0.1111111111111111,
              "#46039f"
             ],
             [
              0.2222222222222222,
              "#7201a8"
             ],
             [
              0.3333333333333333,
              "#9c179e"
             ],
             [
              0.4444444444444444,
              "#bd3786"
             ],
             [
              0.5555555555555556,
              "#d8576b"
             ],
             [
              0.6666666666666666,
              "#ed7953"
             ],
             [
              0.7777777777777778,
              "#fb9f3a"
             ],
             [
              0.8888888888888888,
              "#fdca26"
             ],
             [
              1,
              "#f0f921"
             ]
            ],
            "type": "histogram2dcontour"
           }
          ],
          "mesh3d": [
           {
            "colorbar": {
             "outlinewidth": 0,
             "ticks": ""
            },
            "type": "mesh3d"
           }
          ],
          "parcoords": [
           {
            "line": {
             "colorbar": {
              "outlinewidth": 0,
              "ticks": ""
             }
            },
            "type": "parcoords"
           }
          ],
          "pie": [
           {
            "automargin": true,
            "type": "pie"
           }
          ],
          "scatter": [
           {
            "fillpattern": {
             "fillmode": "overlay",
             "size": 10,
             "solidity": 0.2
            },
            "type": "scatter"
           }
          ],
          "scatter3d": [
           {
            "line": {
             "colorbar": {
              "outlinewidth": 0,
              "ticks": ""
             }
            },
            "marker": {
             "colorbar": {
              "outlinewidth": 0,
              "ticks": ""
             }
            },
            "type": "scatter3d"
           }
          ],
          "scattercarpet": [
           {
            "marker": {
             "colorbar": {
              "outlinewidth": 0,
              "ticks": ""
             }
            },
            "type": "scattercarpet"
           }
          ],
          "scattergeo": [
           {
            "marker": {
             "colorbar": {
              "outlinewidth": 0,
              "ticks": ""
             }
            },
            "type": "scattergeo"
           }
          ],
          "scattergl": [
           {
            "marker": {
             "colorbar": {
              "outlinewidth": 0,
              "ticks": ""
             }
            },
            "type": "scattergl"
           }
          ],
          "scattermapbox": [
           {
            "marker": {
             "colorbar": {
              "outlinewidth": 0,
              "ticks": ""
             }
            },
            "type": "scattermapbox"
           }
          ],
          "scatterpolar": [
           {
            "marker": {
             "colorbar": {
              "outlinewidth": 0,
              "ticks": ""
             }
            },
            "type": "scatterpolar"
           }
          ],
          "scatterpolargl": [
           {
            "marker": {
             "colorbar": {
              "outlinewidth": 0,
              "ticks": ""
             }
            },
            "type": "scatterpolargl"
           }
          ],
          "scatterternary": [
           {
            "marker": {
             "colorbar": {
              "outlinewidth": 0,
              "ticks": ""
             }
            },
            "type": "scatterternary"
           }
          ],
          "surface": [
           {
            "colorbar": {
             "outlinewidth": 0,
             "ticks": ""
            },
            "colorscale": [
             [
              0,
              "#0d0887"
             ],
             [
              0.1111111111111111,
              "#46039f"
             ],
             [
              0.2222222222222222,
              "#7201a8"
             ],
             [
              0.3333333333333333,
              "#9c179e"
             ],
             [
              0.4444444444444444,
              "#bd3786"
             ],
             [
              0.5555555555555556,
              "#d8576b"
             ],
             [
              0.6666666666666666,
              "#ed7953"
             ],
             [
              0.7777777777777778,
              "#fb9f3a"
             ],
             [
              0.8888888888888888,
              "#fdca26"
             ],
             [
              1,
              "#f0f921"
             ]
            ],
            "type": "surface"
           }
          ],
          "table": [
           {
            "cells": {
             "fill": {
              "color": "#EBF0F8"
             },
             "line": {
              "color": "white"
             }
            },
            "header": {
             "fill": {
              "color": "#C8D4E3"
             },
             "line": {
              "color": "white"
             }
            },
            "type": "table"
           }
          ]
         },
         "layout": {
          "annotationdefaults": {
           "arrowcolor": "#2a3f5f",
           "arrowhead": 0,
           "arrowwidth": 1
          },
          "autotypenumbers": "strict",
          "coloraxis": {
           "colorbar": {
            "outlinewidth": 0,
            "ticks": ""
           }
          },
          "colorscale": {
           "diverging": [
            [
             0,
             "#8e0152"
            ],
            [
             0.1,
             "#c51b7d"
            ],
            [
             0.2,
             "#de77ae"
            ],
            [
             0.3,
             "#f1b6da"
            ],
            [
             0.4,
             "#fde0ef"
            ],
            [
             0.5,
             "#f7f7f7"
            ],
            [
             0.6,
             "#e6f5d0"
            ],
            [
             0.7,
             "#b8e186"
            ],
            [
             0.8,
             "#7fbc41"
            ],
            [
             0.9,
             "#4d9221"
            ],
            [
             1,
             "#276419"
            ]
           ],
           "sequential": [
            [
             0,
             "#0d0887"
            ],
            [
             0.1111111111111111,
             "#46039f"
            ],
            [
             0.2222222222222222,
             "#7201a8"
            ],
            [
             0.3333333333333333,
             "#9c179e"
            ],
            [
             0.4444444444444444,
             "#bd3786"
            ],
            [
             0.5555555555555556,
             "#d8576b"
            ],
            [
             0.6666666666666666,
             "#ed7953"
            ],
            [
             0.7777777777777778,
             "#fb9f3a"
            ],
            [
             0.8888888888888888,
             "#fdca26"
            ],
            [
             1,
             "#f0f921"
            ]
           ],
           "sequentialminus": [
            [
             0,
             "#0d0887"
            ],
            [
             0.1111111111111111,
             "#46039f"
            ],
            [
             0.2222222222222222,
             "#7201a8"
            ],
            [
             0.3333333333333333,
             "#9c179e"
            ],
            [
             0.4444444444444444,
             "#bd3786"
            ],
            [
             0.5555555555555556,
             "#d8576b"
            ],
            [
             0.6666666666666666,
             "#ed7953"
            ],
            [
             0.7777777777777778,
             "#fb9f3a"
            ],
            [
             0.8888888888888888,
             "#fdca26"
            ],
            [
             1,
             "#f0f921"
            ]
           ]
          },
          "colorway": [
           "#636efa",
           "#EF553B",
           "#00cc96",
           "#ab63fa",
           "#FFA15A",
           "#19d3f3",
           "#FF6692",
           "#B6E880",
           "#FF97FF",
           "#FECB52"
          ],
          "font": {
           "color": "#2a3f5f"
          },
          "geo": {
           "bgcolor": "white",
           "lakecolor": "white",
           "landcolor": "#E5ECF6",
           "showlakes": true,
           "showland": true,
           "subunitcolor": "white"
          },
          "hoverlabel": {
           "align": "left"
          },
          "hovermode": "closest",
          "mapbox": {
           "style": "light"
          },
          "paper_bgcolor": "white",
          "plot_bgcolor": "#E5ECF6",
          "polar": {
           "angularaxis": {
            "gridcolor": "white",
            "linecolor": "white",
            "ticks": ""
           },
           "bgcolor": "#E5ECF6",
           "radialaxis": {
            "gridcolor": "white",
            "linecolor": "white",
            "ticks": ""
           }
          },
          "scene": {
           "xaxis": {
            "backgroundcolor": "#E5ECF6",
            "gridcolor": "white",
            "gridwidth": 2,
            "linecolor": "white",
            "showbackground": true,
            "ticks": "",
            "zerolinecolor": "white"
           },
           "yaxis": {
            "backgroundcolor": "#E5ECF6",
            "gridcolor": "white",
            "gridwidth": 2,
            "linecolor": "white",
            "showbackground": true,
            "ticks": "",
            "zerolinecolor": "white"
           },
           "zaxis": {
            "backgroundcolor": "#E5ECF6",
            "gridcolor": "white",
            "gridwidth": 2,
            "linecolor": "white",
            "showbackground": true,
            "ticks": "",
            "zerolinecolor": "white"
           }
          },
          "shapedefaults": {
           "line": {
            "color": "#2a3f5f"
           }
          },
          "ternary": {
           "aaxis": {
            "gridcolor": "white",
            "linecolor": "white",
            "ticks": ""
           },
           "baxis": {
            "gridcolor": "white",
            "linecolor": "white",
            "ticks": ""
           },
           "bgcolor": "#E5ECF6",
           "caxis": {
            "gridcolor": "white",
            "linecolor": "white",
            "ticks": ""
           }
          },
          "title": {
           "x": 0.05
          },
          "xaxis": {
           "automargin": true,
           "gridcolor": "white",
           "linecolor": "white",
           "ticks": "",
           "title": {
            "standoff": 15
           },
           "zerolinecolor": "white",
           "zerolinewidth": 2
          },
          "yaxis": {
           "automargin": true,
           "gridcolor": "white",
           "linecolor": "white",
           "ticks": "",
           "title": {
            "standoff": 15
           },
           "zerolinecolor": "white",
           "zerolinewidth": 2
          }
         }
        },
        "title": {
         "text": "Gráfica 1: Índice de marginación municipal promedio por estado contra el promedio municipal por estado del porcentage de población con máximo dos salarios mínimos: 2020"
        },
        "xaxis": {
         "anchor": "y",
         "domain": [
          0,
          1
         ],
         "title": {
          "text": "Porcantaje_Poblacion_promedio_2SM"
         }
        },
        "yaxis": {
         "anchor": "x",
         "domain": [
          0,
          1
         ],
         "title": {
          "text": "IM_2020_promedio"
         }
        }
       }
      }
     },
     "metadata": {},
     "output_type": "display_data"
    }
   ],
   "source": [
    "import plotly.express as px\n",
    "fig = px.scatter(df_data_avg,\n",
    "                 x=\"Porcantaje_Poblacion_promedio_2SM\", \n",
    "                 y=\"IM_2020_promedio\", \n",
    "                 color_discrete_sequence=['blue'],\n",
    "                 text=\"NOM_ENT\",\n",
    "                 #marginal_x='violin', \n",
    "                 #marginal_y='violin',\n",
    "                 trendline=\"ols\",\n",
    "                 trendline_color_override=\"red\",\n",
    "                 opacity=0.6,\n",
    "                title = 'Gráfica 1: Índice de marginación municipal promedio por estado contra el promedio municipal por estado del porcentage de población con máximo dos salarios mínimos: 2020'\n",
    "                )\n",
    "fig.show()"
   ]
  },
  {
   "cell_type": "code",
   "execution_count": 34,
   "metadata": {},
   "outputs": [
    {
     "data": {
      "application/vnd.plotly.v1+json": {
       "config": {
        "plotlyServerURL": "https://plot.ly"
       },
       "data": [
        {
         "hovertemplate": "Población_Total=%{x}<br>IM_2020_promedio=%{y}<br>NOM_ENT=%{text}<extra></extra>",
         "legendgroup": "",
         "marker": {
          "color": "blue",
          "opacity": 0.6,
          "symbol": "circle"
         },
         "mode": "markers+text",
         "name": "",
         "orientation": "v",
         "showlegend": false,
         "text": [
          "Aguascalientes",
          "Baja California",
          "Baja California Sur",
          "Campeche",
          "Coahuila de Zaragoza",
          "Colima",
          "Chiapas",
          "Chihuahua",
          "Ciudad de México",
          "Durango",
          "Guanajuato",
          "Guerrero",
          "Hidalgo",
          "Jalisco",
          "México",
          "Michoacán de Ocampo",
          "Morelos",
          "Nayarit",
          "Nuevo León",
          "Oaxaca",
          "Puebla",
          "Querétaro",
          "Quintana Roo",
          "San Luis Potosí",
          "Sinaloa",
          "Sonora",
          "Tabasco",
          "Tamaulipas",
          "Tlaxcala",
          "Veracruz de Ignacio de la Llave",
          "Yucatán",
          "Zacatecas"
         ],
         "type": "scatter",
         "x": [
          1425607,
          3769020,
          798447,
          928363,
          3146771,
          731391,
          5543828,
          3741869,
          9209944,
          1832650,
          6166934,
          3540685,
          3082841,
          8348151,
          16992418,
          4748846,
          1971520,
          1235456,
          5784442,
          4132148,
          6583278,
          2368467,
          1857985,
          2822255,
          3026943,
          2944840,
          2402598,
          3527735,
          1342977,
          8062579,
          2320898,
          1622138
         ],
         "xaxis": "x",
         "y": [
          57.78,
          57.78,
          58.63,
          54.68,
          58.05,
          57.85,
          51.03,
          53.91,
          60.14,
          54.84,
          55.95,
          49.12,
          55.05,
          56.62,
          56.6,
          54.99,
          56.12,
          54.27,
          57.88,
          51.78,
          53.2,
          55.45,
          56.3,
          53.56,
          56.16,
          57.1,
          55.61,
          55.69,
          57.3,
          53.1,
          53.35,
          56.35
         ],
         "yaxis": "y"
        },
        {
         "hovertemplate": "<b>OLS trendline</b><br>IM_2020_promedio = 1.06306e-08 * Población_Total + 55.4656<br>R<sup>2</sup>=0.000222<br><br>Población_Total=%{x}<br>IM_2020_promedio=%{y} <b>(trend)</b><extra></extra>",
         "legendgroup": "",
         "line": {
          "color": "red"
         },
         "marker": {
          "color": "blue",
          "symbol": "circle"
         },
         "mode": "lines",
         "name": "",
         "showlegend": false,
         "type": "scatter",
         "x": [
          731391,
          798447,
          928363,
          1235456,
          1342977,
          1425607,
          1622138,
          1832650,
          1857985,
          1971520,
          2320898,
          2368467,
          2402598,
          2822255,
          2944840,
          3026943,
          3082841,
          3146771,
          3527735,
          3540685,
          3741869,
          3769020,
          4132148,
          4748846,
          5543828,
          5784442,
          6166934,
          6583278,
          8062579,
          8348151,
          9209944,
          16992418
         ],
         "xaxis": "x",
         "y": [
          55.473412421367655,
          55.47412526808238,
          55.47550635543907,
          55.4787709437856,
          55.47991395845415,
          55.48079236641224,
          55.48288161238115,
          55.4851194850191,
          55.4853888117239,
          55.48659575892857,
          55.490309862953524,
          55.49081555081699,
          55.49117838443696,
          55.49563959765816,
          55.49694275195493,
          55.49781555757738,
          55.49840978785745,
          55.49908940326058,
          55.503139285982904,
          55.50327695248487,
          55.505415662718924,
          55.505704294625865,
          55.509564569647104,
          55.51612045045236,
          55.52457160034149,
          55.52712947583983,
          55.531195602146326,
          55.53562159613039,
          55.55134747983862,
          55.55438328665706,
          55.56354467875952,
          55.64627718626563
         ],
         "yaxis": "y"
        }
       ],
       "layout": {
        "legend": {
         "tracegroupgap": 0
        },
        "template": {
         "data": {
          "bar": [
           {
            "error_x": {
             "color": "#2a3f5f"
            },
            "error_y": {
             "color": "#2a3f5f"
            },
            "marker": {
             "line": {
              "color": "#E5ECF6",
              "width": 0.5
             },
             "pattern": {
              "fillmode": "overlay",
              "size": 10,
              "solidity": 0.2
             }
            },
            "type": "bar"
           }
          ],
          "barpolar": [
           {
            "marker": {
             "line": {
              "color": "#E5ECF6",
              "width": 0.5
             },
             "pattern": {
              "fillmode": "overlay",
              "size": 10,
              "solidity": 0.2
             }
            },
            "type": "barpolar"
           }
          ],
          "carpet": [
           {
            "aaxis": {
             "endlinecolor": "#2a3f5f",
             "gridcolor": "white",
             "linecolor": "white",
             "minorgridcolor": "white",
             "startlinecolor": "#2a3f5f"
            },
            "baxis": {
             "endlinecolor": "#2a3f5f",
             "gridcolor": "white",
             "linecolor": "white",
             "minorgridcolor": "white",
             "startlinecolor": "#2a3f5f"
            },
            "type": "carpet"
           }
          ],
          "choropleth": [
           {
            "colorbar": {
             "outlinewidth": 0,
             "ticks": ""
            },
            "type": "choropleth"
           }
          ],
          "contour": [
           {
            "colorbar": {
             "outlinewidth": 0,
             "ticks": ""
            },
            "colorscale": [
             [
              0,
              "#0d0887"
             ],
             [
              0.1111111111111111,
              "#46039f"
             ],
             [
              0.2222222222222222,
              "#7201a8"
             ],
             [
              0.3333333333333333,
              "#9c179e"
             ],
             [
              0.4444444444444444,
              "#bd3786"
             ],
             [
              0.5555555555555556,
              "#d8576b"
             ],
             [
              0.6666666666666666,
              "#ed7953"
             ],
             [
              0.7777777777777778,
              "#fb9f3a"
             ],
             [
              0.8888888888888888,
              "#fdca26"
             ],
             [
              1,
              "#f0f921"
             ]
            ],
            "type": "contour"
           }
          ],
          "contourcarpet": [
           {
            "colorbar": {
             "outlinewidth": 0,
             "ticks": ""
            },
            "type": "contourcarpet"
           }
          ],
          "heatmap": [
           {
            "colorbar": {
             "outlinewidth": 0,
             "ticks": ""
            },
            "colorscale": [
             [
              0,
              "#0d0887"
             ],
             [
              0.1111111111111111,
              "#46039f"
             ],
             [
              0.2222222222222222,
              "#7201a8"
             ],
             [
              0.3333333333333333,
              "#9c179e"
             ],
             [
              0.4444444444444444,
              "#bd3786"
             ],
             [
              0.5555555555555556,
              "#d8576b"
             ],
             [
              0.6666666666666666,
              "#ed7953"
             ],
             [
              0.7777777777777778,
              "#fb9f3a"
             ],
             [
              0.8888888888888888,
              "#fdca26"
             ],
             [
              1,
              "#f0f921"
             ]
            ],
            "type": "heatmap"
           }
          ],
          "heatmapgl": [
           {
            "colorbar": {
             "outlinewidth": 0,
             "ticks": ""
            },
            "colorscale": [
             [
              0,
              "#0d0887"
             ],
             [
              0.1111111111111111,
              "#46039f"
             ],
             [
              0.2222222222222222,
              "#7201a8"
             ],
             [
              0.3333333333333333,
              "#9c179e"
             ],
             [
              0.4444444444444444,
              "#bd3786"
             ],
             [
              0.5555555555555556,
              "#d8576b"
             ],
             [
              0.6666666666666666,
              "#ed7953"
             ],
             [
              0.7777777777777778,
              "#fb9f3a"
             ],
             [
              0.8888888888888888,
              "#fdca26"
             ],
             [
              1,
              "#f0f921"
             ]
            ],
            "type": "heatmapgl"
           }
          ],
          "histogram": [
           {
            "marker": {
             "pattern": {
              "fillmode": "overlay",
              "size": 10,
              "solidity": 0.2
             }
            },
            "type": "histogram"
           }
          ],
          "histogram2d": [
           {
            "colorbar": {
             "outlinewidth": 0,
             "ticks": ""
            },
            "colorscale": [
             [
              0,
              "#0d0887"
             ],
             [
              0.1111111111111111,
              "#46039f"
             ],
             [
              0.2222222222222222,
              "#7201a8"
             ],
             [
              0.3333333333333333,
              "#9c179e"
             ],
             [
              0.4444444444444444,
              "#bd3786"
             ],
             [
              0.5555555555555556,
              "#d8576b"
             ],
             [
              0.6666666666666666,
              "#ed7953"
             ],
             [
              0.7777777777777778,
              "#fb9f3a"
             ],
             [
              0.8888888888888888,
              "#fdca26"
             ],
             [
              1,
              "#f0f921"
             ]
            ],
            "type": "histogram2d"
           }
          ],
          "histogram2dcontour": [
           {
            "colorbar": {
             "outlinewidth": 0,
             "ticks": ""
            },
            "colorscale": [
             [
              0,
              "#0d0887"
             ],
             [
              0.1111111111111111,
              "#46039f"
             ],
             [
              0.2222222222222222,
              "#7201a8"
             ],
             [
              0.3333333333333333,
              "#9c179e"
             ],
             [
              0.4444444444444444,
              "#bd3786"
             ],
             [
              0.5555555555555556,
              "#d8576b"
             ],
             [
              0.6666666666666666,
              "#ed7953"
             ],
             [
              0.7777777777777778,
              "#fb9f3a"
             ],
             [
              0.8888888888888888,
              "#fdca26"
             ],
             [
              1,
              "#f0f921"
             ]
            ],
            "type": "histogram2dcontour"
           }
          ],
          "mesh3d": [
           {
            "colorbar": {
             "outlinewidth": 0,
             "ticks": ""
            },
            "type": "mesh3d"
           }
          ],
          "parcoords": [
           {
            "line": {
             "colorbar": {
              "outlinewidth": 0,
              "ticks": ""
             }
            },
            "type": "parcoords"
           }
          ],
          "pie": [
           {
            "automargin": true,
            "type": "pie"
           }
          ],
          "scatter": [
           {
            "fillpattern": {
             "fillmode": "overlay",
             "size": 10,
             "solidity": 0.2
            },
            "type": "scatter"
           }
          ],
          "scatter3d": [
           {
            "line": {
             "colorbar": {
              "outlinewidth": 0,
              "ticks": ""
             }
            },
            "marker": {
             "colorbar": {
              "outlinewidth": 0,
              "ticks": ""
             }
            },
            "type": "scatter3d"
           }
          ],
          "scattercarpet": [
           {
            "marker": {
             "colorbar": {
              "outlinewidth": 0,
              "ticks": ""
             }
            },
            "type": "scattercarpet"
           }
          ],
          "scattergeo": [
           {
            "marker": {
             "colorbar": {
              "outlinewidth": 0,
              "ticks": ""
             }
            },
            "type": "scattergeo"
           }
          ],
          "scattergl": [
           {
            "marker": {
             "colorbar": {
              "outlinewidth": 0,
              "ticks": ""
             }
            },
            "type": "scattergl"
           }
          ],
          "scattermapbox": [
           {
            "marker": {
             "colorbar": {
              "outlinewidth": 0,
              "ticks": ""
             }
            },
            "type": "scattermapbox"
           }
          ],
          "scatterpolar": [
           {
            "marker": {
             "colorbar": {
              "outlinewidth": 0,
              "ticks": ""
             }
            },
            "type": "scatterpolar"
           }
          ],
          "scatterpolargl": [
           {
            "marker": {
             "colorbar": {
              "outlinewidth": 0,
              "ticks": ""
             }
            },
            "type": "scatterpolargl"
           }
          ],
          "scatterternary": [
           {
            "marker": {
             "colorbar": {
              "outlinewidth": 0,
              "ticks": ""
             }
            },
            "type": "scatterternary"
           }
          ],
          "surface": [
           {
            "colorbar": {
             "outlinewidth": 0,
             "ticks": ""
            },
            "colorscale": [
             [
              0,
              "#0d0887"
             ],
             [
              0.1111111111111111,
              "#46039f"
             ],
             [
              0.2222222222222222,
              "#7201a8"
             ],
             [
              0.3333333333333333,
              "#9c179e"
             ],
             [
              0.4444444444444444,
              "#bd3786"
             ],
             [
              0.5555555555555556,
              "#d8576b"
             ],
             [
              0.6666666666666666,
              "#ed7953"
             ],
             [
              0.7777777777777778,
              "#fb9f3a"
             ],
             [
              0.8888888888888888,
              "#fdca26"
             ],
             [
              1,
              "#f0f921"
             ]
            ],
            "type": "surface"
           }
          ],
          "table": [
           {
            "cells": {
             "fill": {
              "color": "#EBF0F8"
             },
             "line": {
              "color": "white"
             }
            },
            "header": {
             "fill": {
              "color": "#C8D4E3"
             },
             "line": {
              "color": "white"
             }
            },
            "type": "table"
           }
          ]
         },
         "layout": {
          "annotationdefaults": {
           "arrowcolor": "#2a3f5f",
           "arrowhead": 0,
           "arrowwidth": 1
          },
          "autotypenumbers": "strict",
          "coloraxis": {
           "colorbar": {
            "outlinewidth": 0,
            "ticks": ""
           }
          },
          "colorscale": {
           "diverging": [
            [
             0,
             "#8e0152"
            ],
            [
             0.1,
             "#c51b7d"
            ],
            [
             0.2,
             "#de77ae"
            ],
            [
             0.3,
             "#f1b6da"
            ],
            [
             0.4,
             "#fde0ef"
            ],
            [
             0.5,
             "#f7f7f7"
            ],
            [
             0.6,
             "#e6f5d0"
            ],
            [
             0.7,
             "#b8e186"
            ],
            [
             0.8,
             "#7fbc41"
            ],
            [
             0.9,
             "#4d9221"
            ],
            [
             1,
             "#276419"
            ]
           ],
           "sequential": [
            [
             0,
             "#0d0887"
            ],
            [
             0.1111111111111111,
             "#46039f"
            ],
            [
             0.2222222222222222,
             "#7201a8"
            ],
            [
             0.3333333333333333,
             "#9c179e"
            ],
            [
             0.4444444444444444,
             "#bd3786"
            ],
            [
             0.5555555555555556,
             "#d8576b"
            ],
            [
             0.6666666666666666,
             "#ed7953"
            ],
            [
             0.7777777777777778,
             "#fb9f3a"
            ],
            [
             0.8888888888888888,
             "#fdca26"
            ],
            [
             1,
             "#f0f921"
            ]
           ],
           "sequentialminus": [
            [
             0,
             "#0d0887"
            ],
            [
             0.1111111111111111,
             "#46039f"
            ],
            [
             0.2222222222222222,
             "#7201a8"
            ],
            [
             0.3333333333333333,
             "#9c179e"
            ],
            [
             0.4444444444444444,
             "#bd3786"
            ],
            [
             0.5555555555555556,
             "#d8576b"
            ],
            [
             0.6666666666666666,
             "#ed7953"
            ],
            [
             0.7777777777777778,
             "#fb9f3a"
            ],
            [
             0.8888888888888888,
             "#fdca26"
            ],
            [
             1,
             "#f0f921"
            ]
           ]
          },
          "colorway": [
           "#636efa",
           "#EF553B",
           "#00cc96",
           "#ab63fa",
           "#FFA15A",
           "#19d3f3",
           "#FF6692",
           "#B6E880",
           "#FF97FF",
           "#FECB52"
          ],
          "font": {
           "color": "#2a3f5f"
          },
          "geo": {
           "bgcolor": "white",
           "lakecolor": "white",
           "landcolor": "#E5ECF6",
           "showlakes": true,
           "showland": true,
           "subunitcolor": "white"
          },
          "hoverlabel": {
           "align": "left"
          },
          "hovermode": "closest",
          "mapbox": {
           "style": "light"
          },
          "paper_bgcolor": "white",
          "plot_bgcolor": "#E5ECF6",
          "polar": {
           "angularaxis": {
            "gridcolor": "white",
            "linecolor": "white",
            "ticks": ""
           },
           "bgcolor": "#E5ECF6",
           "radialaxis": {
            "gridcolor": "white",
            "linecolor": "white",
            "ticks": ""
           }
          },
          "scene": {
           "xaxis": {
            "backgroundcolor": "#E5ECF6",
            "gridcolor": "white",
            "gridwidth": 2,
            "linecolor": "white",
            "showbackground": true,
            "ticks": "",
            "zerolinecolor": "white"
           },
           "yaxis": {
            "backgroundcolor": "#E5ECF6",
            "gridcolor": "white",
            "gridwidth": 2,
            "linecolor": "white",
            "showbackground": true,
            "ticks": "",
            "zerolinecolor": "white"
           },
           "zaxis": {
            "backgroundcolor": "#E5ECF6",
            "gridcolor": "white",
            "gridwidth": 2,
            "linecolor": "white",
            "showbackground": true,
            "ticks": "",
            "zerolinecolor": "white"
           }
          },
          "shapedefaults": {
           "line": {
            "color": "#2a3f5f"
           }
          },
          "ternary": {
           "aaxis": {
            "gridcolor": "white",
            "linecolor": "white",
            "ticks": ""
           },
           "baxis": {
            "gridcolor": "white",
            "linecolor": "white",
            "ticks": ""
           },
           "bgcolor": "#E5ECF6",
           "caxis": {
            "gridcolor": "white",
            "linecolor": "white",
            "ticks": ""
           }
          },
          "title": {
           "x": 0.05
          },
          "xaxis": {
           "automargin": true,
           "gridcolor": "white",
           "linecolor": "white",
           "ticks": "",
           "title": {
            "standoff": 15
           },
           "zerolinecolor": "white",
           "zerolinewidth": 2
          },
          "yaxis": {
           "automargin": true,
           "gridcolor": "white",
           "linecolor": "white",
           "ticks": "",
           "title": {
            "standoff": 15
           },
           "zerolinecolor": "white",
           "zerolinewidth": 2
          }
         }
        },
        "title": {
         "text": "Gráfica 2: Índice de marginación municipal promedio por estado contra la población total por Edo.: 2020"
        },
        "xaxis": {
         "anchor": "y",
         "domain": [
          0,
          1
         ],
         "title": {
          "text": "Población_Total"
         }
        },
        "yaxis": {
         "anchor": "x",
         "domain": [
          0,
          1
         ],
         "title": {
          "text": "IM_2020_promedio"
         }
        }
       }
      }
     },
     "metadata": {},
     "output_type": "display_data"
    }
   ],
   "source": [
    "import plotly.express as px\n",
    "fig = px.scatter(df_data_avg,\n",
    "                 x=\"Población_Total\", \n",
    "                 y=\"IM_2020_promedio\", \n",
    "                 color_discrete_sequence=['blue'],\n",
    "                 text=\"NOM_ENT\",\n",
    "                 #marginal_x='violin', \n",
    "                 #marginal_y='violin',\n",
    "                 trendline=\"ols\",\n",
    "                 trendline_color_override=\"red\",\n",
    "                 opacity=0.6,\n",
    "                title = 'Gráfica 2: Índice de marginación municipal promedio por estado contra la población total por Edo.: 2020'\n",
    "                )\n",
    "fig.show()"
   ]
  },
  {
   "cell_type": "markdown",
   "metadata": {},
   "source": [
    "La gráfica de dispersión y la línea de tendencia por mínimos cuadrados ordinarios refleja una relación negativa entre el Índice de marginación municipal promedio por estado y el porcentage de población con hasta dos salarios mínimo municipal promedio por estado, con estadísticos significativos, como $R^{2}=0.6564$, mientras que la del índice de marginación y la población no guarda relagicón alguna, con una sumamente baja de $R^{2}=0.000222$.\n",
    "\n",
    "Por su significancia, la primer gráfica de dispersión es relevante. Recordando que entre mayor es el índide de marginación, menor es el grado de marginación, la interpretación de esta gráfica es: entre mayor es el porcentage promedio municipal por estado con hasta dos salarios mínimos, menor es el índide de marginación del estado en cuestión, lo cual refleja un mayor grado de marginación. Se aprecia de nuevo cómo Guerrero, Oaxaca, Puebla y Chiapas están al extremo derecho, mientras que Ciudad de México, Nuevo León y Jalisco están a la izquierda."
   ]
  },
  {
   "cell_type": "markdown",
   "metadata": {},
   "source": [
    "# **Conclusión**\n"
   ]
  },
  {
   "cell_type": "markdown",
   "metadata": {},
   "source": [
    "El principal aprendizaje de este script es la **capacidad para obtener información de una base de dato en SQL, a través de un editor de texto**. Después de subir la base de datos en un lector de SQL, se intalaron las librerías necesarias; particularmente, `pymysql` y `mysqlalchemy`, para llamar a la base de datos del SQL. Posteriormente, se crearon las lineas de código requeridas para hacer el llamado de datos desde el editor de texto a SQL. Una vez establecidad estas funciones, se generaron los data frames con los cuales se analizó la relación del índide de marginación promedio estatal con la población y el porcentage de población promedio municipal, por estado, con hasta dos salarios mínimos. Esta última variale guardó una relación negativa, significativa, con el índice de marginación: entre mayor es el porcentage promedio municipal por estado con hasta dos salarios mínimos, menor es el índide de marginación del estado en cuestión, lo cual refleja un mayor grado de marginación."
   ]
  },
  {
   "cell_type": "markdown",
   "metadata": {},
   "source": [
    "# **Referencias**\n",
    "\n",
    "* Scatter Plots in Python. (n.d.). Plotly Graphing Libraries. https://plotly.com/python/line-and-scatter/"
   ]
  }
 ],
 "metadata": {
  "kernelspec": {
   "display_name": "Python 3.8.10 64-bit",
   "language": "python",
   "name": "python3"
  },
  "language_info": {
   "codemirror_mode": {
    "name": "ipython",
    "version": 3
   },
   "file_extension": ".py",
   "mimetype": "text/x-python",
   "name": "python",
   "nbconvert_exporter": "python",
   "pygments_lexer": "ipython3",
   "version": "3.8.10"
  },
  "orig_nbformat": 4,
  "vscode": {
   "interpreter": {
    "hash": "f1feb9d396a6df020f1f47c3cac4f3c201e498c08517fdfe430a8222eb9bb3c2"
   }
  }
 },
 "nbformat": 4,
 "nbformat_minor": 2
}
